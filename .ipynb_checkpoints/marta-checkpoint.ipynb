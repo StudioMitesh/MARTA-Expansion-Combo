{
 "cells": [
  {
   "cell_type": "code",
   "execution_count": null,
   "metadata": {
    "cell_id": "50364b4dba194c0d93ca9b738fef9139",
    "deepnote_cell_type": "code",
    "deepnote_to_be_reexecuted": false,
    "execution_millis": 2700,
    "execution_start": 1699486459378,
    "source_hash": "68301009"
   },
   "outputs": [],
   "source": [
    "import pandas as pd\n",
    "import numpy as np\n",
    "import seaborn as sns\n",
    "import matplotlib.pyplot as plt"
   ]
  },
  {
   "cell_type": "code",
   "execution_count": null,
   "metadata": {
    "cell_id": "82e3995848b34b76b6b6d445ee4c12a3",
    "deepnote_cell_type": "code",
    "deepnote_to_be_reexecuted": false,
    "execution_millis": 72,
    "execution_start": 1699486462125,
    "source_hash": "2d041870"
   },
   "outputs": [],
   "source": [
    "martabase = pd.read_csv(\"martabase_final.csv\")"
   ]
  },
  {
   "cell_type": "code",
   "execution_count": null,
   "metadata": {
    "cell_id": "2278903b161e4f5f80d036ec047ca3f2",
    "deepnote_cell_type": "code",
    "deepnote_to_be_reexecuted": false,
    "execution_millis": 55,
    "execution_start": 1699486462240,
    "source_hash": "980a9fff"
   },
   "outputs": [],
   "source": [
    "martabase"
   ]
  },
  {
   "cell_type": "code",
   "execution_count": null,
   "metadata": {
    "cell_id": "07d95eae98cd41cbb620f56c2944b8fb",
    "deepnote_cell_type": "code",
    "deepnote_to_be_reexecuted": false,
    "execution_millis": 15,
    "execution_start": 1699486462372,
    "source_hash": "312756e0"
   },
   "outputs": [],
   "source": [
    "martabase.shape"
   ]
  },
  {
   "cell_type": "code",
   "execution_count": null,
   "metadata": {
    "cell_id": "43f5983a382b42549732bdd7208ec394",
    "deepnote_cell_type": "code",
    "deepnote_to_be_reexecuted": false,
    "execution_millis": 1272,
    "execution_start": 1699486462425,
    "source_hash": "6e7c0949"
   },
   "outputs": [],
   "source": [
    "import folium\n",
    "\n",
    "mapmarta=folium.Map(location=[33.934150, -84.246706])\n",
    "\n",
    "for ind in range(len(martabase[\"Station\"])):\n",
    "    name = martabase.iloc[ind,1]\n",
    "    lat = martabase.iloc[ind,2]\n",
    "    longi = martabase.iloc[ind,3]\n",
    "    folium.Marker([lat,longi],tooltip=name, icon=folium.Icon(color='black',icon_color='red')).add_to(mapmarta)\n",
    "mapmarta"
   ]
  },
  {
   "cell_type": "code",
   "execution_count": null,
   "metadata": {
    "cell_id": "a785f66bc2af47429164b29445309e68",
    "deepnote_cell_type": "code",
    "deepnote_to_be_reexecuted": false,
    "execution_millis": 47,
    "execution_start": 1699486463691,
    "source_hash": "532163f9"
   },
   "outputs": [],
   "source": [
    "from collections import defaultdict\n",
    "\n",
    "class Graph:\n",
    "    def __init__(self, vertices):\n",
    "        self.V = vertices\n",
    "        self.graph = defaultdict(list)\n",
    "\n",
    "    def addEdge(self, v1, v2):\n",
    "        self.graph[v1].append(v2)\n",
    "        self.graph[v2].append(v1)\n",
    "\n",
    "    def DepthFirst(self, v, visited_list):\n",
    "        visited_list[v] = True\n",
    "        for i in self.graph[v]:\n",
    "            if visited_list[i] == False:\n",
    "                self.DepthFirst(i, visited_list)\n",
    "    \n",
    "    def isConnected(self):\n",
    "        visited_list = False*(self.V)\n",
    "        for i in range(self.V):\n",
    "            if(len(self.graph[i]) != 0):\n",
    "                break\n",
    "        if i == self.V-1:\n",
    "            return True\n",
    "       \n",
    "        self.DepthFirst(i, visited_list)\n",
    " \n",
    "        # Check if all non-zero degree vertices are visited\n",
    "        for i in range(self.V):\n",
    "            if visited_list[i] == False and len(self.graph[i]) > 0:\n",
    "                return False\n",
    " \n",
    "        return True\n",
    "    \n",
    "    def isEulerian(self):\n",
    "        # Check if all non-zero degree vertices are connected\n",
    "        if self.isConnected() == False:\n",
    "            return 0\n",
    "        else:\n",
    "            # Count vertices with odd degree\n",
    "            odd = 0\n",
    "            for i in range(self.V):\n",
    "                if len(self.graph[i]) % 2 != 0:\n",
    "                    odd += 1\n",
    "            #number of odds:\n",
    "                # 0 -> euler cycle\n",
    "                # 2 -> euler path \n",
    "                # >2 -> not eulerian \n",
    "            if odd == 0:\n",
    "                return 2 #euler cycle\n",
    "            elif odd == 2:\n",
    "                return 1 #euler path\n",
    "            elif odd > 2:\n",
    "                return 0 #no euler\n",
    "    \n",
    "    def test(self):\n",
    "        result = self.isEulerian()\n",
    "        if res == 0:\n",
    "            print(\"Graph is not Eulerian\")\n",
    "        elif res == 1:\n",
    "            print(\"Graph has a Euler path\")\n",
    "        else:\n",
    "            print(\"Graph has a Euler cycle\")"
   ]
  },
  {
   "cell_type": "code",
   "execution_count": null,
   "metadata": {
    "cell_id": "df8e6536d9dc4d23ba9b54e9af3f3127",
    "deepnote_cell_type": "code",
    "deepnote_to_be_reexecuted": false,
    "execution_millis": 44,
    "execution_start": 1699486463715,
    "source_hash": "83ce2a81"
   },
   "outputs": [],
   "source": [
    "g = Graph(160)\n",
    "g.addEdge(1,2)"
   ]
  },
  {
   "cell_type": "code",
   "execution_count": null,
   "metadata": {
    "cell_id": "75b2e9e22ee547859aef24de70ddbf98",
    "deepnote_cell_type": "code",
    "deepnote_to_be_reexecuted": false,
    "execution_millis": 48,
    "execution_start": 1699486463755,
    "source_hash": "8a010a77"
   },
   "outputs": [],
   "source": [
    "latitudes = martabase.iloc[:,2]\n",
    "longitudes = martabase.iloc[:,3]\n",
    "longitudes*=-1"
   ]
  },
  {
   "cell_type": "code",
   "execution_count": null,
   "metadata": {
    "cell_id": "eafcc74015074ab3b76f96e7151fd5e8",
    "deepnote_cell_type": "code",
    "deepnote_to_be_reexecuted": false,
    "execution_millis": 41,
    "execution_start": 1699486463764,
    "source_hash": "454a1a98"
   },
   "outputs": [],
   "source": [
    "nplats = latitudes.to_numpy()\n",
    "nplongs = longitudes.to_numpy()"
   ]
  },
  {
   "cell_type": "code",
   "execution_count": null,
   "metadata": {
    "cell_id": "6fe7a0fbd0bb418b956f6444495a5ecf",
    "deepnote_cell_type": "code",
    "deepnote_to_be_reexecuted": false,
    "execution_millis": 196,
    "execution_start": 1699486463776,
    "source_hash": "36bfebfd"
   },
   "outputs": [],
   "source": [
    "from sklearn.preprocessing import MinMaxScaler\n",
    "\n",
    "nplats = nplats.reshape(-1, 1)\n",
    "nplongs = nplongs.reshape(-1, 1)\n",
    "\n",
    "lats_fin = MinMaxScaler().fit_transform(nplats)\n",
    "longs_fin = MinMaxScaler().fit_transform(nplongs)"
   ]
  },
  {
   "cell_type": "code",
   "execution_count": null,
   "metadata": {
    "cell_id": "17d41a7079324b1dbcfbf7b2d89e6bed",
    "deepnote_cell_type": "code",
    "deepnote_to_be_reexecuted": false,
    "execution_millis": 78,
    "execution_start": 1699486463984,
    "source_hash": "c413b073"
   },
   "outputs": [],
   "source": [
    "lats_fin"
   ]
  },
  {
   "cell_type": "code",
   "execution_count": null,
   "metadata": {
    "allow_embed": false,
    "cell_id": "a3d051675c4245e5a85def6025fe7bfa",
    "deepnote_cell_type": "code",
    "deepnote_to_be_reexecuted": false,
    "execution_millis": 420,
    "execution_start": 1699486463988,
    "source_hash": "abe150c2"
   },
   "outputs": [],
   "source": [
    "longs_fin"
   ]
  },
  {
   "cell_type": "code",
   "execution_count": null,
   "metadata": {
    "cell_id": "42ded266d73d415a8076cb48bea1af8e",
    "deepnote_cell_type": "code",
    "deepnote_to_be_reexecuted": false,
    "execution_millis": 173,
    "execution_start": 1699486463993,
    "source_hash": "e129971d"
   },
   "outputs": [],
   "source": [
    "vertices_fin = np.hstack((lats_fin, longs_fin))\n",
    "vertices_fin"
   ]
  },
  {
   "cell_type": "code",
   "execution_count": null,
   "metadata": {
    "cell_id": "14531ded30ee4a3199cfc7f0ead23901",
    "deepnote_cell_type": "code",
    "deepnote_to_be_reexecuted": false,
    "execution_millis": 553,
    "execution_start": 1699486464061,
    "source_hash": "16a37ac9"
   },
   "outputs": [],
   "source": [
    "vertices_f = martabase.iloc[:,2:4]\n",
    "vertices_f"
   ]
  },
  {
   "cell_type": "code",
   "execution_count": null,
   "metadata": {
    "cell_id": "fa077cf044204292a746e2f953a316b5",
    "deepnote_cell_type": "code",
    "deepnote_to_be_reexecuted": false,
    "execution_millis": 655,
    "execution_start": 1699486464163,
    "source_hash": "c26bc91e"
   },
   "outputs": [],
   "source": [
    "import numpy as np\n",
    "import networkx as nx\n",
    "import matplotlib.pyplot as plt\n",
    "import math"
   ]
  },
  {
   "cell_type": "code",
   "execution_count": null,
   "metadata": {
    "cell_id": "3d5fb47cf7234d4c928ab39b768e60dd",
    "deepnote_cell_type": "code",
    "deepnote_to_be_reexecuted": false,
    "execution_millis": 130,
    "execution_start": 1699486464800,
    "source_hash": "ca10e8aa"
   },
   "outputs": [],
   "source": [
    "vertices_final = vertices_f.to_numpy()\n",
    "vertices_final"
   ]
  },
  {
   "cell_type": "code",
   "execution_count": null,
   "metadata": {
    "cell_id": "062e12f4cd3b489a9fcffbde91b1f39e",
    "deepnote_cell_type": "code",
    "deepnote_to_be_reexecuted": false,
    "execution_millis": 206,
    "execution_start": 1699486464913,
    "source_hash": "a2863e9d"
   },
   "outputs": [],
   "source": [
    "def distance_formula(x1, y1, x2, y2):\n",
    "   dist = math.sqrt( (math.pow( (x1 - x2) ,2)) + (math.pow( (y1 - y2) ,2)) )\n",
    "   print(dist)\n",
    "   return dist\n",
    "\n",
    "def generate_knn_graph(n, k, vertices):\n",
    "    G = nx.Graph()\n",
    "\n",
    "    for v in vertices:\n",
    "        # Values for x1,x2\n",
    "        x1 = v[0]\n",
    "        y1 = v[1]\n",
    "\n",
    "        # Calculate distances to other vertices\n",
    "        for u in vertices:\n",
    "            distances = []\n",
    "            try:\n",
    "                distances.append((u, distance_formula(x1, y1, u[0], u[1])))\n",
    "            except:\n",
    "                continue\n",
    "        \n",
    "        # Sort distances\n",
    "        distances.sort(key=lambda x: x[1])\n",
    "\n",
    "        # Select k nearest neighbors\n",
    "        neighbors = [u for u, _ in distances[:k]]\n",
    "\n",
    "        # Add edges\n",
    "        G.add_edges_from([(v, u) for u in neighbors])\n",
    "\n",
    "    return G\n",
    "\n",
    "graph = generate_knn_graph(160, 7, vertices_f)\n",
    "print(graph)\n",
    "\n",
    "# Plot the graph\n",
    "#pos = {i: vertices_final[i] for i in range(160)}\n",
    "nx.draw(graph)\n",
    "plt.show()"
   ]
  },
  {
   "cell_type": "markdown",
   "metadata": {
    "created_in_deepnote_cell": true,
    "deepnote_cell_type": "markdown"
   },
   "source": []
  }
 ],
 "metadata": {
  "deepnote": {},
  "deepnote_execution_queue": [],
  "deepnote_notebook_id": "90475e0ff8874ca995a246c3b61aa713",
  "deepnote_persisted_session": {
   "createdAt": "2023-11-08T00:16:44.460Z"
  },
  "kernelspec": {
   "display_name": "Python 3 (ipykernel)",
   "language": "python",
   "name": "python3"
  },
  "language_info": {
   "codemirror_mode": {
    "name": "ipython",
    "version": 3
   },
   "file_extension": ".py",
   "mimetype": "text/x-python",
   "name": "python",
   "nbconvert_exporter": "python",
   "pygments_lexer": "ipython3",
   "version": "3.11.1"
  }
 },
 "nbformat": 4,
 "nbformat_minor": 1
}
